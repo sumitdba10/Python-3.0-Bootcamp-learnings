{
  "nbformat": 4,
  "nbformat_minor": 0,
  "metadata": {
    "colab": {
      "name": "I/O with basic files in Python.ipynb",
      "version": "0.3.2",
      "provenance": [],
      "include_colab_link": true
    },
    "kernelspec": {
      "name": "python3",
      "display_name": "Python 3"
    }
  },
  "cells": [
    {
      "cell_type": "markdown",
      "metadata": {
        "id": "view-in-github",
        "colab_type": "text"
      },
      "source": [
        "<a href=\"https://colab.research.google.com/github/sumitdba10/Python-3.0-Bootcamp-learnings/blob/sumit_python/I_O_with_basic_files_in_Python.ipynb\" target=\"_parent\"><img src=\"https://colab.research.google.com/assets/colab-badge.svg\" alt=\"Open In Colab\"/></a>"
      ]
    },
    {
      "metadata": {
        "id": "wAo4b8qQf7oj",
        "colab_type": "code",
        "outputId": "58b45286-f104-4de6-f318-8b012b7b3b86",
        "colab": {
          "base_uri": "https://localhost:8080/",
          "height": 34
        }
      },
      "cell_type": "code",
      "source": [
        "pwd"
      ],
      "execution_count": 0,
      "outputs": [
        {
          "output_type": "execute_result",
          "data": {
            "text/plain": [
              "'/content'"
            ]
          },
          "metadata": {
            "tags": []
          },
          "execution_count": 1
        }
      ]
    },
    {
      "metadata": {
        "id": "YHaUHtj4h6gm",
        "colab_type": "code",
        "colab": {
          "base_uri": "https://localhost:8080/",
          "height": 34
        },
        "outputId": "de692ce1-73bd-4993-9bb7-4978f387459e"
      },
      "cell_type": "code",
      "source": [
        "%%writefile testfile.txt\n",
        "Hello, This is a test file\n",
        "This is line two\n",
        "This is line three\n",
        "This is fourth line"
      ],
      "execution_count": 15,
      "outputs": [
        {
          "output_type": "stream",
          "text": [
            "Overwriting testfile.txt\n"
          ],
          "name": "stdout"
        }
      ]
    },
    {
      "metadata": {
        "id": "oKP6QnOZpRqz",
        "colab_type": "code",
        "colab": {
          "base_uri": "https://localhost:8080/",
          "height": 34
        },
        "outputId": "05a7b913-4bb4-4500-fd04-34ce2757999c"
      },
      "cell_type": "code",
      "source": [
        "pwd"
      ],
      "execution_count": 3,
      "outputs": [
        {
          "output_type": "execute_result",
          "data": {
            "text/plain": [
              "'/content'"
            ]
          },
          "metadata": {
            "tags": []
          },
          "execution_count": 3
        }
      ]
    },
    {
      "metadata": {
        "id": "o7aNxqq-pdT4",
        "colab_type": "code",
        "colab": {}
      },
      "cell_type": "code",
      "source": [
        "testfile = open('testfile.txt')"
      ],
      "execution_count": 0,
      "outputs": []
    },
    {
      "metadata": {
        "id": "rDPpHyNAplFI",
        "colab_type": "code",
        "colab": {
          "base_uri": "https://localhost:8080/",
          "height": 34
        },
        "outputId": "66327c7b-0baa-480e-9268-e7328976af5e"
      },
      "cell_type": "code",
      "source": [
        "testfile.read()"
      ],
      "execution_count": 17,
      "outputs": [
        {
          "output_type": "execute_result",
          "data": {
            "text/plain": [
              "'Hello, This is a test file\\nThis is line two\\nThis is line three\\nThis is fourth line'"
            ]
          },
          "metadata": {
            "tags": []
          },
          "execution_count": 17
        }
      ]
    },
    {
      "metadata": {
        "id": "Es-vdovFptj9",
        "colab_type": "code",
        "colab": {
          "base_uri": "https://localhost:8080/",
          "height": 34
        },
        "outputId": "ae3229a4-adfd-4f51-f0bb-4c9fc8f028fd"
      },
      "cell_type": "code",
      "source": [
        "testfile.read()"
      ],
      "execution_count": 18,
      "outputs": [
        {
          "output_type": "execute_result",
          "data": {
            "text/plain": [
              "''"
            ]
          },
          "metadata": {
            "tags": []
          },
          "execution_count": 18
        }
      ]
    },
    {
      "metadata": {
        "id": "n7G2sK76pzA8",
        "colab_type": "code",
        "colab": {
          "base_uri": "https://localhost:8080/",
          "height": 164
        },
        "outputId": "956ac6a3-b358-4512-a49b-8521240fd49b"
      },
      "cell_type": "code",
      "source": [
        "testfile.seek()"
      ],
      "execution_count": 19,
      "outputs": [
        {
          "output_type": "error",
          "ename": "TypeError",
          "evalue": "ignored",
          "traceback": [
            "\u001b[0;31m---------------------------------------------------------------------------\u001b[0m",
            "\u001b[0;31mTypeError\u001b[0m                                 Traceback (most recent call last)",
            "\u001b[0;32m<ipython-input-19-bde823ada6c4>\u001b[0m in \u001b[0;36m<module>\u001b[0;34m()\u001b[0m\n\u001b[0;32m----> 1\u001b[0;31m \u001b[0mtestfile\u001b[0m\u001b[0;34m.\u001b[0m\u001b[0mseek\u001b[0m\u001b[0;34m(\u001b[0m\u001b[0;34m)\u001b[0m\u001b[0;34m\u001b[0m\u001b[0;34m\u001b[0m\u001b[0m\n\u001b[0m",
            "\u001b[0;31mTypeError\u001b[0m: seek() takes at least 1 argument (0 given)"
          ]
        }
      ]
    },
    {
      "metadata": {
        "id": "ku3LFkejp2jD",
        "colab_type": "code",
        "colab": {
          "base_uri": "https://localhost:8080/",
          "height": 34
        },
        "outputId": "8e6b68b3-c60e-49e9-fa7a-0b40ba0b6058"
      },
      "cell_type": "code",
      "source": [
        "testfile.seek(0)"
      ],
      "execution_count": 20,
      "outputs": [
        {
          "output_type": "execute_result",
          "data": {
            "text/plain": [
              "0"
            ]
          },
          "metadata": {
            "tags": []
          },
          "execution_count": 20
        }
      ]
    },
    {
      "metadata": {
        "id": "lKsCQeSop68o",
        "colab_type": "code",
        "colab": {
          "base_uri": "https://localhost:8080/",
          "height": 85
        },
        "outputId": "80b64e62-59e1-4567-98e5-b8400ceca555"
      },
      "cell_type": "code",
      "source": [
        "testfile.readlines()"
      ],
      "execution_count": 21,
      "outputs": [
        {
          "output_type": "execute_result",
          "data": {
            "text/plain": [
              "['Hello, This is a test file\\n',\n",
              " 'This is line two\\n',\n",
              " 'This is line three\\n',\n",
              " 'This is fourth line']"
            ]
          },
          "metadata": {
            "tags": []
          },
          "execution_count": 21
        }
      ]
    },
    {
      "metadata": {
        "id": "staaAO-MtJk1",
        "colab_type": "text"
      },
      "cell_type": "markdown",
      "source": [
        "**To open a file:**\n",
        "\n",
        "**Windows:**\n",
        "\n",
        "myfile = open(\"C:\\\\users\\\\...\\\\myfile.txt\")\n",
        "\n",
        "Double \\\\ is to avoid python syntex confict\n",
        "\n",
        "**MacOS/Linux:**\n",
        "\n",
        "myfile = open(\"/user/.../myfile.txt\")"
      ]
    },
    {
      "metadata": {
        "id": "tAhhfTzXtKyU",
        "colab_type": "code",
        "colab": {}
      },
      "cell_type": "code",
      "source": [
        "testfile.close()"
      ],
      "execution_count": 0,
      "outputs": []
    },
    {
      "metadata": {
        "id": "L0W_EvMqtjy7",
        "colab_type": "text"
      },
      "cell_type": "markdown",
      "source": [
        "With basic open() method, there will be exclusive lock, and when other session will try to edit file they couldn't. We could use other method \"with open('file.txt')\" as variable1:\n",
        "variable2  = variable1.read()"
      ]
    },
    {
      "metadata": {
        "id": "IN4xCLryuSkc",
        "colab_type": "code",
        "colab": {}
      },
      "cell_type": "code",
      "source": [
        "with open('testfile.txt') as f:\n",
        "  contents = f.read()"
      ],
      "execution_count": 0,
      "outputs": []
    },
    {
      "metadata": {
        "id": "q_dMExdqFHXd",
        "colab_type": "code",
        "colab": {
          "base_uri": "https://localhost:8080/",
          "height": 34
        },
        "outputId": "3807bee6-86b1-4a6d-c176-501070ac5c71"
      },
      "cell_type": "code",
      "source": [
        "contents"
      ],
      "execution_count": 24,
      "outputs": [
        {
          "output_type": "execute_result",
          "data": {
            "text/plain": [
              "'Hello, This is a test file\\nThis is line two\\nThis is line three\\nThis is fourth line'"
            ]
          },
          "metadata": {
            "tags": []
          },
          "execution_count": 24
        }
      ]
    },
    {
      "metadata": {
        "id": "enq-W8NaFJAe",
        "colab_type": "code",
        "colab": {}
      },
      "cell_type": "code",
      "source": [
        "with open('testfile.txt',mode ='a') as f:\n",
        "  contents = f.write(\"\\nThis is fifth line\")"
      ],
      "execution_count": 0,
      "outputs": []
    },
    {
      "metadata": {
        "id": "sieqlxF3FS3e",
        "colab_type": "code",
        "colab": {}
      },
      "cell_type": "code",
      "source": [
        "with open('testfile.txt',mode ='r+') as f:\n",
        "  contents = f.readlines()"
      ],
      "execution_count": 0,
      "outputs": []
    },
    {
      "metadata": {
        "id": "vfiAsFZlFdAJ",
        "colab_type": "code",
        "colab": {
          "base_uri": "https://localhost:8080/",
          "height": 102
        },
        "outputId": "578c4557-8cc9-4732-97d4-b08fc17fd5f5"
      },
      "cell_type": "code",
      "source": [
        "contents"
      ],
      "execution_count": 34,
      "outputs": [
        {
          "output_type": "execute_result",
          "data": {
            "text/plain": [
              "['Hello, This is a test file\\n',\n",
              " 'This is line two\\n',\n",
              " 'This is line three\\n',\n",
              " 'This is fourth lineThis is fifth line\\n',\n",
              " 'This is fifth line']"
            ]
          },
          "metadata": {
            "tags": []
          },
          "execution_count": 34
        }
      ]
    },
    {
      "metadata": {
        "id": "EWmlb7RPFzfC",
        "colab_type": "code",
        "colab": {}
      },
      "cell_type": "code",
      "source": [
        " with open('abcdedfg.txt',mode='w') as filewrite:\n",
        "    filewrite = filewrite.write(\"Hello, Just to test write function\")"
      ],
      "execution_count": 0,
      "outputs": []
    },
    {
      "metadata": {
        "id": "fvm8yRdrI5LD",
        "colab_type": "code",
        "colab": {
          "base_uri": "https://localhost:8080/",
          "height": 34
        },
        "outputId": "76b8cc13-b6ff-4d5d-e702-c984287b95e5"
      },
      "cell_type": "code",
      "source": [
        "filewrite"
      ],
      "execution_count": 37,
      "outputs": [
        {
          "output_type": "execute_result",
          "data": {
            "text/plain": [
              "34"
            ]
          },
          "metadata": {
            "tags": []
          },
          "execution_count": 37
        }
      ]
    },
    {
      "metadata": {
        "id": "GFzuzUVVJCP0",
        "colab_type": "code",
        "colab": {}
      },
      "cell_type": "code",
      "source": [
        "with open('abcdedfg.txt',mode='r') as filewrite:\n",
        "    filewrite = filewrite.read()"
      ],
      "execution_count": 0,
      "outputs": []
    },
    {
      "metadata": {
        "id": "7Y8xDrPyJW8B",
        "colab_type": "code",
        "colab": {
          "base_uri": "https://localhost:8080/",
          "height": 34
        },
        "outputId": "3fa48db1-8a75-41b1-bdff-5f359cf76a69"
      },
      "cell_type": "code",
      "source": [
        "filewrite"
      ],
      "execution_count": 40,
      "outputs": [
        {
          "output_type": "execute_result",
          "data": {
            "text/plain": [
              "'Hello, Just to test write function'"
            ]
          },
          "metadata": {
            "tags": []
          },
          "execution_count": 40
        }
      ]
    },
    {
      "metadata": {
        "id": "HaH_r26ZJjHS",
        "colab_type": "code",
        "colab": {}
      },
      "cell_type": "code",
      "source": [
        "with open('abcdefgh.txt', mode='w') as filereadwrite:\n",
        "  filereadwrite = filereadwrite.write(\"Hello World\")"
      ],
      "execution_count": 0,
      "outputs": []
    },
    {
      "metadata": {
        "id": "vHLeMfRBK2Wb",
        "colab_type": "code",
        "colab": {}
      },
      "cell_type": "code",
      "source": [
        "with open('abcdefgh.txt', mode = 'r+') as filereadwrite:\n",
        "  filereadwrite = filereadwrite.read()"
      ],
      "execution_count": 0,
      "outputs": []
    },
    {
      "metadata": {
        "id": "5RYhwTDpK7Ug",
        "colab_type": "code",
        "colab": {
          "base_uri": "https://localhost:8080/",
          "height": 34
        },
        "outputId": "1a9136d5-9f26-45da-fcab-c76e9c220b56"
      },
      "cell_type": "code",
      "source": [
        "filereadwrite"
      ],
      "execution_count": 57,
      "outputs": [
        {
          "output_type": "execute_result",
          "data": {
            "text/plain": [
              "'Hello World'"
            ]
          },
          "metadata": {
            "tags": []
          },
          "execution_count": 57
        }
      ]
    },
    {
      "metadata": {
        "id": "Zo49Gh-QK8q6",
        "colab_type": "code",
        "colab": {
          "base_uri": "https://localhost:8080/",
          "height": 164
        },
        "outputId": "7816717d-e56f-4fcd-e15f-e3ba7a75a37f"
      },
      "cell_type": "code",
      "source": [
        "mytestfile = testfile.read()"
      ],
      "execution_count": 58,
      "outputs": [
        {
          "output_type": "error",
          "ename": "ValueError",
          "evalue": "ignored",
          "traceback": [
            "\u001b[0;31m---------------------------------------------------------------------------\u001b[0m",
            "\u001b[0;31mValueError\u001b[0m                                Traceback (most recent call last)",
            "\u001b[0;32m<ipython-input-58-e1af109d0a21>\u001b[0m in \u001b[0;36m<module>\u001b[0;34m()\u001b[0m\n\u001b[0;32m----> 1\u001b[0;31m \u001b[0mmytestfile\u001b[0m \u001b[0;34m=\u001b[0m \u001b[0mtestfile\u001b[0m\u001b[0;34m.\u001b[0m\u001b[0mread\u001b[0m\u001b[0;34m(\u001b[0m\u001b[0;34m)\u001b[0m\u001b[0;34m\u001b[0m\u001b[0;34m\u001b[0m\u001b[0m\n\u001b[0m",
            "\u001b[0;31mValueError\u001b[0m: I/O operation on closed file."
          ]
        }
      ]
    },
    {
      "metadata": {
        "id": "zBo9drzDjN0X",
        "colab_type": "code",
        "colab": {}
      },
      "cell_type": "code",
      "source": [
        "mytestfile = open(\"testfile.txt\")"
      ],
      "execution_count": 0,
      "outputs": []
    },
    {
      "metadata": {
        "id": "_40vH7-ujZnM",
        "colab_type": "code",
        "colab": {
          "base_uri": "https://localhost:8080/",
          "height": 34
        },
        "outputId": "ebb3e1c3-c54a-4880-cbf3-f1fbd4acaaf8"
      },
      "cell_type": "code",
      "source": [
        "mytestfile.read()"
      ],
      "execution_count": 60,
      "outputs": [
        {
          "output_type": "execute_result",
          "data": {
            "text/plain": [
              "'Hello, This is a test file\\nThis is line two\\nThis is line three\\nThis is fourth lineThis is fifth line\\nThis is fifth line'"
            ]
          },
          "metadata": {
            "tags": []
          },
          "execution_count": 60
        }
      ]
    },
    {
      "metadata": {
        "id": "QQz7oEyJjd9J",
        "colab_type": "code",
        "colab": {
          "base_uri": "https://localhost:8080/",
          "height": 34
        },
        "outputId": "a9efb787-8787-49b5-d197-cc8fe12e1112"
      },
      "cell_type": "code",
      "source": [
        "mytestfile.read()"
      ],
      "execution_count": 61,
      "outputs": [
        {
          "output_type": "execute_result",
          "data": {
            "text/plain": [
              "''"
            ]
          },
          "metadata": {
            "tags": []
          },
          "execution_count": 61
        }
      ]
    },
    {
      "metadata": {
        "id": "4BZLC9injhq4",
        "colab_type": "code",
        "colab": {
          "base_uri": "https://localhost:8080/",
          "height": 164
        },
        "outputId": "dd579680-975b-4933-ce15-cd46b172d71a"
      },
      "cell_type": "code",
      "source": [
        "mytestfile.seek()"
      ],
      "execution_count": 62,
      "outputs": [
        {
          "output_type": "error",
          "ename": "TypeError",
          "evalue": "ignored",
          "traceback": [
            "\u001b[0;31m---------------------------------------------------------------------------\u001b[0m",
            "\u001b[0;31mTypeError\u001b[0m                                 Traceback (most recent call last)",
            "\u001b[0;32m<ipython-input-62-112393053a96>\u001b[0m in \u001b[0;36m<module>\u001b[0;34m()\u001b[0m\n\u001b[0;32m----> 1\u001b[0;31m \u001b[0mmytestfile\u001b[0m\u001b[0;34m.\u001b[0m\u001b[0mseek\u001b[0m\u001b[0;34m(\u001b[0m\u001b[0;34m)\u001b[0m\u001b[0;34m\u001b[0m\u001b[0;34m\u001b[0m\u001b[0m\n\u001b[0m",
            "\u001b[0;31mTypeError\u001b[0m: seek() takes at least 1 argument (0 given)"
          ]
        }
      ]
    },
    {
      "metadata": {
        "id": "_OmJkP2PjkhD",
        "colab_type": "code",
        "colab": {
          "base_uri": "https://localhost:8080/",
          "height": 34
        },
        "outputId": "106ccb71-cd38-4842-a457-c90f4e04bc04"
      },
      "cell_type": "code",
      "source": [
        "mytestfile.seek(0)"
      ],
      "execution_count": 63,
      "outputs": [
        {
          "output_type": "execute_result",
          "data": {
            "text/plain": [
              "0"
            ]
          },
          "metadata": {
            "tags": []
          },
          "execution_count": 63
        }
      ]
    },
    {
      "metadata": {
        "id": "5hb0QxXbjoVG",
        "colab_type": "code",
        "colab": {
          "base_uri": "https://localhost:8080/",
          "height": 164
        },
        "outputId": "284bf1a4-19bf-48c9-c87d-9b8258fff505"
      },
      "cell_type": "code",
      "source": [
        "mytestfile.write(\"This is write test\")"
      ],
      "execution_count": 64,
      "outputs": [
        {
          "output_type": "error",
          "ename": "UnsupportedOperation",
          "evalue": "ignored",
          "traceback": [
            "\u001b[0;31m---------------------------------------------------------------------------\u001b[0m",
            "\u001b[0;31mUnsupportedOperation\u001b[0m                      Traceback (most recent call last)",
            "\u001b[0;32m<ipython-input-64-e18ddc6bd5b1>\u001b[0m in \u001b[0;36m<module>\u001b[0;34m()\u001b[0m\n\u001b[0;32m----> 1\u001b[0;31m \u001b[0mmytestfile\u001b[0m\u001b[0;34m.\u001b[0m\u001b[0mwrite\u001b[0m\u001b[0;34m(\u001b[0m\u001b[0;34m\"This is write test\"\u001b[0m\u001b[0;34m)\u001b[0m\u001b[0;34m\u001b[0m\u001b[0;34m\u001b[0m\u001b[0m\n\u001b[0m",
            "\u001b[0;31mUnsupportedOperation\u001b[0m: not writable"
          ]
        }
      ]
    },
    {
      "metadata": {
        "id": "Xu-1Brgcjud5",
        "colab_type": "code",
        "colab": {}
      },
      "cell_type": "code",
      "source": [
        "mytestfile.close()"
      ],
      "execution_count": 0,
      "outputs": []
    },
    {
      "metadata": {
        "id": "v_cOUVvXjzJv",
        "colab_type": "code",
        "colab": {}
      },
      "cell_type": "code",
      "source": [
        "mytestfile = open('testfile.txt','w+')"
      ],
      "execution_count": 0,
      "outputs": []
    },
    {
      "metadata": {
        "id": "CAqC8J5Sj-Tc",
        "colab_type": "code",
        "colab": {
          "base_uri": "https://localhost:8080/",
          "height": 34
        },
        "outputId": "037dab5b-c675-4a41-cbba-77447b66b0c1"
      },
      "cell_type": "code",
      "source": [
        "mytestfile.write(\"This is write test\")"
      ],
      "execution_count": 67,
      "outputs": [
        {
          "output_type": "execute_result",
          "data": {
            "text/plain": [
              "18"
            ]
          },
          "metadata": {
            "tags": []
          },
          "execution_count": 67
        }
      ]
    },
    {
      "metadata": {
        "id": "iJLr3pTzkERV",
        "colab_type": "code",
        "colab": {
          "base_uri": "https://localhost:8080/",
          "height": 34
        },
        "outputId": "ebc200f9-940c-4c67-9487-fb79c29d9d6b"
      },
      "cell_type": "code",
      "source": [
        "mytestfile.read()"
      ],
      "execution_count": 68,
      "outputs": [
        {
          "output_type": "execute_result",
          "data": {
            "text/plain": [
              "''"
            ]
          },
          "metadata": {
            "tags": []
          },
          "execution_count": 68
        }
      ]
    },
    {
      "metadata": {
        "id": "O7W0vVYykGw9",
        "colab_type": "code",
        "colab": {
          "base_uri": "https://localhost:8080/",
          "height": 34
        },
        "outputId": "cd4b966f-d3bc-4f44-c488-161f85ded55e"
      },
      "cell_type": "code",
      "source": [
        "mytestfile.seek(0)"
      ],
      "execution_count": 69,
      "outputs": [
        {
          "output_type": "execute_result",
          "data": {
            "text/plain": [
              "0"
            ]
          },
          "metadata": {
            "tags": []
          },
          "execution_count": 69
        }
      ]
    },
    {
      "metadata": {
        "id": "dJCZ5qyGkQXy",
        "colab_type": "code",
        "colab": {
          "base_uri": "https://localhost:8080/",
          "height": 34
        },
        "outputId": "f5a333b8-fa5a-4f46-a369-deb67b3a216f"
      },
      "cell_type": "code",
      "source": [
        "mytestfile.read()"
      ],
      "execution_count": 70,
      "outputs": [
        {
          "output_type": "execute_result",
          "data": {
            "text/plain": [
              "'This is write test'"
            ]
          },
          "metadata": {
            "tags": []
          },
          "execution_count": 70
        }
      ]
    },
    {
      "metadata": {
        "id": "WFodcligkShh",
        "colab_type": "code",
        "colab": {}
      },
      "cell_type": "code",
      "source": [
        "mytestfile.close()"
      ],
      "execution_count": 0,
      "outputs": []
    },
    {
      "metadata": {
        "id": "fhbPg4jMkaUC",
        "colab_type": "code",
        "colab": {
          "base_uri": "https://localhost:8080/",
          "height": 34
        },
        "outputId": "fe9078bc-f9bf-46b9-b02a-a5cbeceb3511"
      },
      "cell_type": "code",
      "source": [
        "mytestfile = open('testfile.txt','a+')\n",
        "mytestfile.write('\\nThis is second line')\n",
        "mytestfile.write('\\nThis is third line')"
      ],
      "execution_count": 72,
      "outputs": [
        {
          "output_type": "execute_result",
          "data": {
            "text/plain": [
              "19"
            ]
          },
          "metadata": {
            "tags": []
          },
          "execution_count": 72
        }
      ]
    },
    {
      "metadata": {
        "id": "Mip89QOXksrH",
        "colab_type": "code",
        "colab": {
          "base_uri": "https://localhost:8080/",
          "height": 34
        },
        "outputId": "57ddd69f-1166-44f7-dde5-ce137caa457c"
      },
      "cell_type": "code",
      "source": [
        "mytestfile.seek(0)"
      ],
      "execution_count": 73,
      "outputs": [
        {
          "output_type": "execute_result",
          "data": {
            "text/plain": [
              "0"
            ]
          },
          "metadata": {
            "tags": []
          },
          "execution_count": 73
        }
      ]
    },
    {
      "metadata": {
        "id": "P2G37prwkwN6",
        "colab_type": "code",
        "colab": {
          "base_uri": "https://localhost:8080/",
          "height": 34
        },
        "outputId": "4575c01d-e05e-422a-d948-9f84100d9f43"
      },
      "cell_type": "code",
      "source": [
        "mytestfile.read()"
      ],
      "execution_count": 74,
      "outputs": [
        {
          "output_type": "execute_result",
          "data": {
            "text/plain": [
              "'This is write test\\nThis is second line\\nThis is third line'"
            ]
          },
          "metadata": {
            "tags": []
          },
          "execution_count": 74
        }
      ]
    },
    {
      "metadata": {
        "id": "SUOY881ukyUr",
        "colab_type": "code",
        "colab": {
          "base_uri": "https://localhost:8080/",
          "height": 34
        },
        "outputId": "cd9abd44-de3d-4452-f5c2-3c57690979d1"
      },
      "cell_type": "code",
      "source": [
        "mytestfile"
      ],
      "execution_count": 75,
      "outputs": [
        {
          "output_type": "execute_result",
          "data": {
            "text/plain": [
              "<_io.TextIOWrapper name='testfile.txt' mode='a+' encoding='UTF-8'>"
            ]
          },
          "metadata": {
            "tags": []
          },
          "execution_count": 75
        }
      ]
    },
    {
      "metadata": {
        "id": "PK2zs-8Htobi",
        "colab_type": "code",
        "colab": {
          "base_uri": "https://localhost:8080/",
          "height": 34
        },
        "outputId": "d97da87e-737d-4b2d-bc13-b56f5d79f889"
      },
      "cell_type": "code",
      "source": [
        "mytestfile.read()"
      ],
      "execution_count": 76,
      "outputs": [
        {
          "output_type": "execute_result",
          "data": {
            "text/plain": [
              "''"
            ]
          },
          "metadata": {
            "tags": []
          },
          "execution_count": 76
        }
      ]
    },
    {
      "metadata": {
        "id": "ZT1LYFrVtrMr",
        "colab_type": "code",
        "colab": {
          "base_uri": "https://localhost:8080/",
          "height": 34
        },
        "outputId": "32fc3a5d-4f28-4508-b9e0-34066c819144"
      },
      "cell_type": "code",
      "source": [
        "mytestfile.seek(0)"
      ],
      "execution_count": 77,
      "outputs": [
        {
          "output_type": "execute_result",
          "data": {
            "text/plain": [
              "0"
            ]
          },
          "metadata": {
            "tags": []
          },
          "execution_count": 77
        }
      ]
    },
    {
      "metadata": {
        "id": "mR4JAmzitt5m",
        "colab_type": "code",
        "colab": {
          "base_uri": "https://localhost:8080/",
          "height": 34
        },
        "outputId": "cc4842b7-af8a-4913-a802-cdb1f70df419"
      },
      "cell_type": "code",
      "source": [
        "mytestfile.read()"
      ],
      "execution_count": 78,
      "outputs": [
        {
          "output_type": "execute_result",
          "data": {
            "text/plain": [
              "'This is write test\\nThis is second line\\nThis is third line'"
            ]
          },
          "metadata": {
            "tags": []
          },
          "execution_count": 78
        }
      ]
    },
    {
      "metadata": {
        "id": "jHKFgEGUtznX",
        "colab_type": "code",
        "colab": {
          "base_uri": "https://localhost:8080/",
          "height": 34
        },
        "outputId": "7be5f4af-3bab-427e-e5ee-20c3fe7d2eb4"
      },
      "cell_type": "code",
      "source": [
        "mytestfile.seek(0)"
      ],
      "execution_count": 79,
      "outputs": [
        {
          "output_type": "execute_result",
          "data": {
            "text/plain": [
              "0"
            ]
          },
          "metadata": {
            "tags": []
          },
          "execution_count": 79
        }
      ]
    },
    {
      "metadata": {
        "id": "sNnb1ay7t4T1",
        "colab_type": "code",
        "colab": {
          "base_uri": "https://localhost:8080/",
          "height": 34
        },
        "outputId": "f5a1fdf8-09f6-4341-88f5-337112d2d60d"
      },
      "cell_type": "code",
      "source": [
        "mytestfile.readlines()"
      ],
      "execution_count": 80,
      "outputs": [
        {
          "output_type": "execute_result",
          "data": {
            "text/plain": [
              "['This is write test\\n', 'This is second line\\n', 'This is third line']"
            ]
          },
          "metadata": {
            "tags": []
          },
          "execution_count": 80
        }
      ]
    },
    {
      "metadata": {
        "id": "JUGfzhcLt7mq",
        "colab_type": "code",
        "colab": {}
      },
      "cell_type": "code",
      "source": [
        "mytestfile = open('testfile.txt','r')"
      ],
      "execution_count": 0,
      "outputs": []
    },
    {
      "metadata": {
        "id": "XinS1CxCuFss",
        "colab_type": "code",
        "colab": {
          "base_uri": "https://localhost:8080/",
          "height": 34
        },
        "outputId": "5dc9ca21-f632-4f51-e3c9-60648fdbef5a"
      },
      "cell_type": "code",
      "source": [
        "mytestfile.read()"
      ],
      "execution_count": 82,
      "outputs": [
        {
          "output_type": "execute_result",
          "data": {
            "text/plain": [
              "'This is write test\\nThis is second line\\nThis is third line'"
            ]
          },
          "metadata": {
            "tags": []
          },
          "execution_count": 82
        }
      ]
    },
    {
      "metadata": {
        "id": "V3VKYy9LuIOA",
        "colab_type": "code",
        "colab": {}
      },
      "cell_type": "code",
      "source": [
        ""
      ],
      "execution_count": 0,
      "outputs": []
    }
  ]
}