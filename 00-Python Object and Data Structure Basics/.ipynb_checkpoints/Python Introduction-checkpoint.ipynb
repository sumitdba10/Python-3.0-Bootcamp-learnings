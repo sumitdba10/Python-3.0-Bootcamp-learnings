{
 "cells": [
  {
   "cell_type": "markdown",
   "metadata": {},
   "source": [
    "# Python\n",
    "\n",
    "Guido Van Rossum author the Python programming language in 1980's as a succesor to the ABC langugae, under Centrum Wiskunde and Informatica (CWI), Netherlands.\n",
    "\n",
    "Python is Object-Oriented programming lanaguge\n",
    "\n",
    "We can construct objects of classes and re-use while programming.\n",
    "\n",
    "Python supports all popular programming paradigm:\n",
    "\n",
    "1. Object-Oriented programming\n",
    "\n",
    "2. Functional programming\n",
    "\n",
    "3. Procedural programming\n",
    "\n",
    "4. Aspect-oriented programming\n",
    "\n",
    "\n",
    "Python is rich with most of OOP concepts such as classes, objects, data, and methods. Also, capable to implement and exhibit concepts like asbtraction, encapsulation, inheritance, and polymorphism.\n",
    "\n",
    "Also, support APIs to provide interface to other applications or tools. \n",
    "\n",
    "The Python interpreter is free to download from http://python.org/, and there are versions for Linux, OS X, and Windows.\n",
    "\n",
    "\n",
    "Pros:\n",
    "\n",
    "1. Easy to Learn: Straight-forward, pre-written library, and types freedom. Big developer community, and         documentation.\n",
    "\n",
    "2. High Level abstractions: Python programming language is high level language as most of code has been abstracted.\n",
    "   less number of lines of code for even complex operations\n",
    "   \n",
    "3. Robust: Easy to design and develop web applications or smart systems. Python has rich libraries for database automation, text mining, machine learning, signal processing, image processing, deep learning, artificial intelligence and on and on.\n",
    "\n",
    "4. Open Source: Anyone can create libraries, to which can share, contribute, suggest improvements, and feedback. although, Python Software Foundation (PSF) owns all Python-related intellactual property and administers all license related issues.\n",
    "\n",
    "Python applications:\n",
    "\n",
    "1. Scripting\n",
    "2. Web development: Python framworks for web developments are Django, Flask, Web2Py, and Pyramid. Can be develop complete enterprise web applications, and Python supports RESTful API's and MVC architecture.\n",
    "3. System programming: Python Standard library has OS and POSIX bindings that can be used for handling files, multithreading, multiprocessing, environment variables, controlling sockets, pipes, and processes.\n",
    "4. Database programming: \n",
    "\n"
   ]
  }
 ],
 "metadata": {
  "kernelspec": {
   "display_name": "Python 3",
   "language": "python",
   "name": "python3"
  },
  "language_info": {
   "codemirror_mode": {
    "name": "ipython",
    "version": 3
   },
   "file_extension": ".py",
   "mimetype": "text/x-python",
   "name": "python",
   "nbconvert_exporter": "python",
   "pygments_lexer": "ipython3",
   "version": "3.7.0"
  }
 },
 "nbformat": 4,
 "nbformat_minor": 2
}
