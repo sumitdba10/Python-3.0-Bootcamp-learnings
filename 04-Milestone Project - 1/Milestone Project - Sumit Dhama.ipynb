{
 "cells": [
  {
   "cell_type": "markdown",
   "metadata": {},
   "source": [
    "# TIC-TAC-TOE\n"
   ]
  },
  {
   "cell_type": "raw",
   "metadata": {},
   "source": [
    "Tic-Tac-Toe is a two player game\n",
    "To learn more about: https://en.wikipedia.org/wiki/Tic-tac-toe\n",
    "Today, we are going to write a program in Python language (basic) to create a Tic-Tac-Toe game live\n",
    "There could be numerous way to write a same function or program, I've come up with mine, feel free to write yours\n",
    "\n",
    "def : A keyword to indicate function\n",
    "function: Will always return some value of type string, integer, boolean etc. useful to write some logic or operaation\n",
    "\n",
    "I have devided whole program into multiple steps, starting with creation of multiple functions\n",
    "\n",
    "Pierian Data Inc. (n.d.). Retrieved from https://www.pieriandata.com/\n",
    "    "
   ]
  },
  {
   "cell_type": "markdown",
   "metadata": {},
   "source": [
    "STEP 1: Write a function to display board"
   ]
  },
  {
   "cell_type": "code",
   "execution_count": 115,
   "metadata": {},
   "outputs": [],
   "source": [
    "#Display board is to display a TIC-TAC-TOE board\n",
    "\n",
    "#here, we are importing display library, and using clear_output function to clear screen between moves\n",
    "from IPython.display import clear_output\n",
    "\n",
    "#there are numerous ways to define a board object, here board is list type data structure\n",
    "\n",
    "#board = input('#','X','O','X','O','X','O','X','O','X')\n",
    "#board = [' ']*10\n",
    "#board = ['#','X','X','X','X','O','O','O','O','O']\n",
    "\n",
    "def display_board(board):\n",
    "    #clear screen for a new fresh board\n",
    "    clear_output()\n",
    "    print('  |   |')\n",
    "    print(''+ board[9]+ ' | ' + board[8] + ' | '+ board[7])\n",
    "    print('  |   |')\n",
    "    print('----------')\n",
    "    print('  |   |')\n",
    "    print(''+ board[6]+ ' | ' + board[5] + ' | '+ board[4])\n",
    "    print('  |   |')\n",
    "    print('-----------')\n",
    "    print('  |   |')\n",
    "    print(''+ board[1]+ ' | ' + board[2] + ' | '+ board[3])\n",
    "    print('  |   |')\n",
    "    "
   ]
  },
  {
   "cell_type": "code",
   "execution_count": 148,
   "metadata": {},
   "outputs": [
    {
     "name": "stdout",
     "output_type": "stream",
     "text": [
      "  |   |\n",
      "O | O | O\n",
      "  |   |\n",
      "----------\n",
      "  |   |\n",
      "O | O | X\n",
      "  |   |\n",
      "-----------\n",
      "  |   |\n",
      "X | X | X\n",
      "  |   |\n"
     ]
    }
   ],
   "source": [
    "# test our board to display\n",
    "trial_board = ['#','X','X','X','X','O','O','O','O','O'] \n",
    "\n",
    "display_board(trial_board)"
   ]
  },
  {
   "cell_type": "markdown",
   "metadata": {},
   "source": [
    "STEP 2: Write a function to choose the marker 'X' or 'O' for both players"
   ]
  },
  {
   "cell_type": "code",
   "execution_count": 175,
   "metadata": {},
   "outputs": [],
   "source": [
    "def player_input():\n",
    "    \n",
    "    #define a variable marker as empty initially\n",
    "    marker = ''\n",
    "    \n",
    "    #if player is entering values other than X or O, keep asking to enter valid value\n",
    "    while marker != 'X' and marker != 'O':\n",
    "        #input built-in function is used to take input from keyboard\n",
    "        marker = input('welcome Player1, Please pick a marker X or O: ')\n",
    "        \n",
    "        \"\"\"player1 = marker\n",
    "        if player1 == 'X':\n",
    "            player2 = 'O'\n",
    "        else:\n",
    "            player2 = 'X'\n",
    "        \n",
    "    return (player1,player2)\"\"\"\n",
    "        \n",
    "        if marker == 'X':\n",
    "            return('X','O')\n",
    "        else:\n",
    "            return('O','X')"
   ]
  },
  {
   "cell_type": "code",
   "execution_count": 176,
   "metadata": {},
   "outputs": [
    {
     "name": "stdout",
     "output_type": "stream",
     "text": [
      "welcome Player1, Please pick a marker X or O: X\n"
     ]
    }
   ],
   "source": [
    "player1_marker,player2_marker = player_input()"
   ]
  },
  {
   "cell_type": "code",
   "execution_count": 179,
   "metadata": {},
   "outputs": [
    {
     "data": {
      "text/plain": [
       "'X'"
      ]
     },
     "execution_count": 179,
     "metadata": {},
     "output_type": "execute_result"
    }
   ],
   "source": [
    "player1_marker"
   ]
  },
  {
   "cell_type": "code",
   "execution_count": 180,
   "metadata": {},
   "outputs": [
    {
     "data": {
      "text/plain": [
       "'O'"
      ]
     },
     "execution_count": 180,
     "metadata": {},
     "output_type": "execute_result"
    }
   ],
   "source": [
    "player2_marker"
   ]
  },
  {
   "cell_type": "code",
   "execution_count": 117,
   "metadata": {},
   "outputs": [],
   "source": [
    "#Check if position is free on the board, return boolean value, True if free or else False\n",
    "\n",
    "def space_check(board,position):\n",
    "    return board[position] == ' '"
   ]
  },
  {
   "cell_type": "code",
   "execution_count": 135,
   "metadata": {},
   "outputs": [],
   "source": [
    "#check if board is full or not (for all positions 1-9)\n",
    "def full_board_check(board):\n",
    "    for i in range(1,10):\n",
    "        if space_check(board,i):\n",
    "            return False\n",
    "    return True"
   ]
  },
  {
   "cell_type": "code",
   "execution_count": 119,
   "metadata": {},
   "outputs": [],
   "source": [
    "#Choose position to place marker, while checking entered position is between 1-9 and also, space is free at enetered\n",
    "#position to place marker\n",
    "\n",
    "\"\"\"def position():\n",
    "    x = int(input (\"Please enter the position: (1 - 9) : \"))\n",
    "    while True:\n",
    "        if 1 <= int(x) <= 9:\n",
    "            return x\n",
    "        else:\n",
    "            x = int(input(\"Try Again, Please enter the position: (1 - 9) : \"))\n",
    "    for x in board:\n",
    "        return marker == board[x]\"\"\"\n",
    "\n",
    "def player_choice(board):\n",
    "    position = 0\n",
    "    \n",
    "    #ask to enter valid value between 1-9\n",
    "    #if position is not free, ask different position\n",
    "    while position not in [1,2,3,4,5,6,7,8,9] or not space_check(board, position):\n",
    "        position = int(input(\"Choose a position (1-9): \"))\n",
    "    \n",
    "    #if position is valid value, and space is free return position to be used\n",
    "    return position\n",
    "    \n",
    "\n"
   ]
  },
  {
   "cell_type": "code",
   "execution_count": 120,
   "metadata": {},
   "outputs": [],
   "source": [
    "board = [' ']*10\n",
    "\n",
    "def place_marker(board, marker, position):\n",
    "    board[position] = marker\n",
    "\n",
    "    #display_board(board)"
   ]
  },
  {
   "cell_type": "code",
   "execution_count": 121,
   "metadata": {},
   "outputs": [],
   "source": [
    "#position = position()\n",
    "#place_marker(board,player1_marker,position)\n",
    "#display_board(board)"
   ]
  },
  {
   "cell_type": "code",
   "execution_count": 122,
   "metadata": {},
   "outputs": [],
   "source": [
    "#place_marker(board,'X',9)"
   ]
  },
  {
   "cell_type": "code",
   "execution_count": 131,
   "metadata": {},
   "outputs": [],
   "source": [
    "def win_check(board, mark):\n",
    "    \n",
    "    #WIN check for TIC TAC TOE\n",
    "    \n",
    "    # Check all rows if they have same marker\n",
    "    # check all columns if anyone of it has same marker\n",
    "    # check all diagonal if anyone of it has same marker\n",
    "    \n",
    "    return((board[1] == board[2] == board[3] == mark) or #row check for same marker\n",
    "    (board[4] == board[5] == board[6] == mark) or #row check for same marker\n",
    "    (board[7] == board[8] == board[9] == mark) or #row check for same marker\n",
    "    (board[1] == board[6] == board[9] == mark) or #column check for same marker\n",
    "    (board[2] == board[5] == board[8] == mark) or #column check for same marker\n",
    "    (board[3] == board[4] == board[7] == mark) or #column check for same marker\n",
    "    (board[1] == board[5] == board[7] == mark) or #diagonal check for same marker\n",
    "    (board[3] == board[5] == board[9] == mark)) #diagonal check for same marker"
   ]
  },
  {
   "cell_type": "code",
   "execution_count": 124,
   "metadata": {},
   "outputs": [],
   "source": [
    "#display_board(board)\n",
    "#win_check(board,'X')"
   ]
  },
  {
   "cell_type": "code",
   "execution_count": 125,
   "metadata": {},
   "outputs": [
    {
     "name": "stdout",
     "output_type": "stream",
     "text": [
      "Sam\n",
      "Tim\n"
     ]
    }
   ],
   "source": [
    "#import random library to generate random selection such as Toss, random number pick\n",
    "import random as rn\n",
    "\n",
    "#define player1, and player2 name variables\n",
    "player1 = input()\n",
    "player2 = input()\n",
    "\n",
    "#choose first function will choose one of player to go first, randomly\n",
    "def choose_first():\n",
    "    choice = rn.randint(1,2)\n",
    "    if choice == 1:\n",
    "        return player1\n",
    "    else:\n",
    "        return player2"
   ]
  },
  {
   "cell_type": "code",
   "execution_count": 126,
   "metadata": {},
   "outputs": [
    {
     "data": {
      "text/plain": [
       "'Tim'"
      ]
     },
     "execution_count": 126,
     "metadata": {},
     "output_type": "execute_result"
    }
   ],
   "source": [
    "#choose_first()"
   ]
  },
  {
   "cell_type": "code",
   "execution_count": 143,
   "metadata": {},
   "outputs": [],
   "source": [
    "#replay function is to ask players, if they want to replay Tic-Tac-Toe game.\n",
    "def replay():\n",
    "    return input('Do you want to play again? Enter yes or no: ').lower().startswith('y')"
   ]
  },
  {
   "cell_type": "code",
   "execution_count": 182,
   "metadata": {},
   "outputs": [
    {
     "name": "stdout",
     "output_type": "stream",
     "text": [
      "WELCOME TO TIC-TAC-TOE\n"
     ]
    },
    {
     "ename": "KeyboardInterrupt",
     "evalue": "",
     "output_type": "error",
     "traceback": [
      "\u001b[0;31m---------------------------------------------------------------------------\u001b[0m",
      "\u001b[0;31mKeyboardInterrupt\u001b[0m                         Traceback (most recent call last)",
      "\u001b[0;32m/anaconda3/lib/python3.7/site-packages/ipykernel/kernelbase.py\u001b[0m in \u001b[0;36m_input_request\u001b[0;34m(self, prompt, ident, parent, password)\u001b[0m\n\u001b[1;32m    728\u001b[0m             \u001b[0;32mtry\u001b[0m\u001b[0;34m:\u001b[0m\u001b[0;34m\u001b[0m\u001b[0m\n\u001b[0;32m--> 729\u001b[0;31m                 \u001b[0mident\u001b[0m\u001b[0;34m,\u001b[0m \u001b[0mreply\u001b[0m \u001b[0;34m=\u001b[0m \u001b[0mself\u001b[0m\u001b[0;34m.\u001b[0m\u001b[0msession\u001b[0m\u001b[0;34m.\u001b[0m\u001b[0mrecv\u001b[0m\u001b[0;34m(\u001b[0m\u001b[0mself\u001b[0m\u001b[0;34m.\u001b[0m\u001b[0mstdin_socket\u001b[0m\u001b[0;34m,\u001b[0m \u001b[0;36m0\u001b[0m\u001b[0;34m)\u001b[0m\u001b[0;34m\u001b[0m\u001b[0m\n\u001b[0m\u001b[1;32m    730\u001b[0m             \u001b[0;32mexcept\u001b[0m \u001b[0mException\u001b[0m\u001b[0;34m:\u001b[0m\u001b[0;34m\u001b[0m\u001b[0m\n",
      "\u001b[0;32m/anaconda3/lib/python3.7/site-packages/jupyter_client/session.py\u001b[0m in \u001b[0;36mrecv\u001b[0;34m(self, socket, mode, content, copy)\u001b[0m\n\u001b[1;32m    802\u001b[0m         \u001b[0;32mtry\u001b[0m\u001b[0;34m:\u001b[0m\u001b[0;34m\u001b[0m\u001b[0m\n\u001b[0;32m--> 803\u001b[0;31m             \u001b[0mmsg_list\u001b[0m \u001b[0;34m=\u001b[0m \u001b[0msocket\u001b[0m\u001b[0;34m.\u001b[0m\u001b[0mrecv_multipart\u001b[0m\u001b[0;34m(\u001b[0m\u001b[0mmode\u001b[0m\u001b[0;34m,\u001b[0m \u001b[0mcopy\u001b[0m\u001b[0;34m=\u001b[0m\u001b[0mcopy\u001b[0m\u001b[0;34m)\u001b[0m\u001b[0;34m\u001b[0m\u001b[0m\n\u001b[0m\u001b[1;32m    804\u001b[0m         \u001b[0;32mexcept\u001b[0m \u001b[0mzmq\u001b[0m\u001b[0;34m.\u001b[0m\u001b[0mZMQError\u001b[0m \u001b[0;32mas\u001b[0m \u001b[0me\u001b[0m\u001b[0;34m:\u001b[0m\u001b[0;34m\u001b[0m\u001b[0m\n",
      "\u001b[0;32m/anaconda3/lib/python3.7/site-packages/zmq/sugar/socket.py\u001b[0m in \u001b[0;36mrecv_multipart\u001b[0;34m(self, flags, copy, track)\u001b[0m\n\u001b[1;32m    466\u001b[0m         \"\"\"\n\u001b[0;32m--> 467\u001b[0;31m         \u001b[0mparts\u001b[0m \u001b[0;34m=\u001b[0m \u001b[0;34m[\u001b[0m\u001b[0mself\u001b[0m\u001b[0;34m.\u001b[0m\u001b[0mrecv\u001b[0m\u001b[0;34m(\u001b[0m\u001b[0mflags\u001b[0m\u001b[0;34m,\u001b[0m \u001b[0mcopy\u001b[0m\u001b[0;34m=\u001b[0m\u001b[0mcopy\u001b[0m\u001b[0;34m,\u001b[0m \u001b[0mtrack\u001b[0m\u001b[0;34m=\u001b[0m\u001b[0mtrack\u001b[0m\u001b[0;34m)\u001b[0m\u001b[0;34m]\u001b[0m\u001b[0;34m\u001b[0m\u001b[0m\n\u001b[0m\u001b[1;32m    468\u001b[0m         \u001b[0;31m# have first part already, only loop while more to receive\u001b[0m\u001b[0;34m\u001b[0m\u001b[0;34m\u001b[0m\u001b[0m\n",
      "\u001b[0;32mzmq/backend/cython/socket.pyx\u001b[0m in \u001b[0;36mzmq.backend.cython.socket.Socket.recv\u001b[0;34m()\u001b[0m\n",
      "\u001b[0;32mzmq/backend/cython/socket.pyx\u001b[0m in \u001b[0;36mzmq.backend.cython.socket.Socket.recv\u001b[0;34m()\u001b[0m\n",
      "\u001b[0;32mzmq/backend/cython/socket.pyx\u001b[0m in \u001b[0;36mzmq.backend.cython.socket._recv_copy\u001b[0;34m()\u001b[0m\n",
      "\u001b[0;32m/anaconda3/lib/python3.7/site-packages/zmq/backend/cython/checkrc.pxd\u001b[0m in \u001b[0;36mzmq.backend.cython.checkrc._check_rc\u001b[0;34m()\u001b[0m\n",
      "\u001b[0;31mKeyboardInterrupt\u001b[0m: ",
      "\nDuring handling of the above exception, another exception occurred:\n",
      "\u001b[0;31mKeyboardInterrupt\u001b[0m                         Traceback (most recent call last)",
      "\u001b[0;32m<ipython-input-182-c74bb178d46c>\u001b[0m in \u001b[0;36m<module>\u001b[0;34m()\u001b[0m\n\u001b[1;32m      2\u001b[0m \u001b[0mprint\u001b[0m\u001b[0;34m(\u001b[0m\u001b[0;34m\"WELCOME TO TIC-TAC-TOE\"\u001b[0m\u001b[0;34m)\u001b[0m\u001b[0;34m\u001b[0m\u001b[0m\n\u001b[1;32m      3\u001b[0m \u001b[0;34m\u001b[0m\u001b[0m\n\u001b[0;32m----> 4\u001b[0;31m \u001b[0mplayer1\u001b[0m \u001b[0;34m=\u001b[0m \u001b[0minput\u001b[0m\u001b[0;34m(\u001b[0m\u001b[0;34m\"Please enter name for player1: \"\u001b[0m\u001b[0;34m)\u001b[0m\u001b[0;34m.\u001b[0m\u001b[0mupper\u001b[0m\u001b[0;34m(\u001b[0m\u001b[0;34m)\u001b[0m\u001b[0;34m\u001b[0m\u001b[0m\n\u001b[0m\u001b[1;32m      5\u001b[0m \u001b[0mplayer2\u001b[0m \u001b[0;34m=\u001b[0m \u001b[0minput\u001b[0m\u001b[0;34m(\u001b[0m\u001b[0;34m\"Please enter name for player2: \"\u001b[0m\u001b[0;34m)\u001b[0m\u001b[0;34m.\u001b[0m\u001b[0mupper\u001b[0m\u001b[0;34m(\u001b[0m\u001b[0;34m)\u001b[0m\u001b[0;34m\u001b[0m\u001b[0m\n\u001b[1;32m      6\u001b[0m \u001b[0;34m\u001b[0m\u001b[0m\n",
      "\u001b[0;32m/anaconda3/lib/python3.7/site-packages/ipykernel/kernelbase.py\u001b[0m in \u001b[0;36mraw_input\u001b[0;34m(self, prompt)\u001b[0m\n\u001b[1;32m    702\u001b[0m             \u001b[0mself\u001b[0m\u001b[0;34m.\u001b[0m\u001b[0m_parent_ident\u001b[0m\u001b[0;34m,\u001b[0m\u001b[0;34m\u001b[0m\u001b[0m\n\u001b[1;32m    703\u001b[0m             \u001b[0mself\u001b[0m\u001b[0;34m.\u001b[0m\u001b[0m_parent_header\u001b[0m\u001b[0;34m,\u001b[0m\u001b[0;34m\u001b[0m\u001b[0m\n\u001b[0;32m--> 704\u001b[0;31m             \u001b[0mpassword\u001b[0m\u001b[0;34m=\u001b[0m\u001b[0;32mFalse\u001b[0m\u001b[0;34m,\u001b[0m\u001b[0;34m\u001b[0m\u001b[0m\n\u001b[0m\u001b[1;32m    705\u001b[0m         )\n\u001b[1;32m    706\u001b[0m \u001b[0;34m\u001b[0m\u001b[0m\n",
      "\u001b[0;32m/anaconda3/lib/python3.7/site-packages/ipykernel/kernelbase.py\u001b[0m in \u001b[0;36m_input_request\u001b[0;34m(self, prompt, ident, parent, password)\u001b[0m\n\u001b[1;32m    732\u001b[0m             \u001b[0;32mexcept\u001b[0m \u001b[0mKeyboardInterrupt\u001b[0m\u001b[0;34m:\u001b[0m\u001b[0;34m\u001b[0m\u001b[0m\n\u001b[1;32m    733\u001b[0m                 \u001b[0;31m# re-raise KeyboardInterrupt, to truncate traceback\u001b[0m\u001b[0;34m\u001b[0m\u001b[0;34m\u001b[0m\u001b[0m\n\u001b[0;32m--> 734\u001b[0;31m                 \u001b[0;32mraise\u001b[0m \u001b[0mKeyboardInterrupt\u001b[0m\u001b[0;34m\u001b[0m\u001b[0m\n\u001b[0m\u001b[1;32m    735\u001b[0m             \u001b[0;32melse\u001b[0m\u001b[0;34m:\u001b[0m\u001b[0;34m\u001b[0m\u001b[0m\n\u001b[1;32m    736\u001b[0m                 \u001b[0;32mbreak\u001b[0m\u001b[0;34m\u001b[0m\u001b[0m\n",
      "\u001b[0;31mKeyboardInterrupt\u001b[0m: "
     ]
    }
   ],
   "source": [
    "#GAME ON\n",
    "print(\"WELCOME TO TIC-TAC-TOE\")\n",
    "\n",
    "player1 = input(\"Please enter name for player1: \").upper()\n",
    "player2 = input(\"Please enter name for player2: \").upper()\n",
    "\n",
    "while True:\n",
    "    #setup the board\n",
    "    board =[' ']*10\n",
    "        \n",
    "    #choose the marker\n",
    "    player1_marker,player2_marker = player_input()\n",
    "    \n",
    "    #display names of players along with thier markers\n",
    "    print(player1 + \" ,your marker is \"+player1_marker)\n",
    "    print(player2 + \" ,your marker is \"+player2_marker)\n",
    "    \n",
    "    #choose, who will go first\n",
    "    turn = choose_first()\n",
    "    print(turn + \" WILL GO FIRST!\")\n",
    "    \n",
    "    #ask if players want to play game or not\n",
    "    play_game = input('You wanna play game? yes or no ')\n",
    "    \n",
    "    #players may input yes or no, but input function is case sensitive, we will just consider, first letter of yes\n",
    "    #i.e 'y' as indicator to play game or else anything else entered will quite the game\n",
    "    if play_game.lower()[0] == 'y':\n",
    "        game_on = True\n",
    "    else:\n",
    "        game_on = False\n",
    "    \n",
    "    #if game is on, we will start turns of each player, and will place marker on their choice of position\n",
    "    #we will keep checking full board, if anyone win the game or game is tie i.e. board  is full and no row, column,\n",
    "    # and/or row has same consecutive marker. check function win_check\n",
    "    \n",
    "    while game_on:\n",
    "        #Player 1 turn\n",
    "        if turn == player1:\n",
    "            #display the board\n",
    "            display_board(board)\n",
    "                \n",
    "            #select player choice of position to place marker\n",
    "            position = player_choice(board)\n",
    "            #place the marker on selected position\n",
    "            place_marker(board,player1_marker,position)\n",
    "                \n",
    "            if win_check(board,player1_marker):\n",
    "                display_board(board)\n",
    "                print('       ')\n",
    "                print(player1+ ' HAS WON!')\n",
    "                game_on = False\n",
    "                \n",
    "            #check if tie\n",
    "            if full_board_check(board):\n",
    "                display_board(board)\n",
    "                print('           ')\n",
    "                print(\"GAME IS TIE!\")\n",
    "                game_on = False\n",
    "            else:\n",
    "                    turn = player2\n",
    "                \n",
    "            \n",
    "        \n",
    "        else:\n",
    "            ##Player 2 turn\n",
    "            display_board(board)\n",
    "                \n",
    "            #select player choice of position to place marker\n",
    "            position = player_choice(board)\n",
    "            #place the marker on selected position\n",
    "            place_marker(board,player2_marker, position)\n",
    "                \n",
    "            if win_check(board,player2_marker):\n",
    "                display_board(board)\n",
    "                print('       ')\n",
    "                print(player1+ ' HAS WON!')\n",
    "                game_on = False\n",
    "                \n",
    "            #check if tie\n",
    "            if full_board_check(board):\n",
    "                display_board(board)\n",
    "                print('           ')\n",
    "                print(\"GAME IS TIE!\")\n",
    "                game_on = False\n",
    "            else:\n",
    "                    turn = player1\n",
    "            \n",
    "        \n",
    "        \n",
    "    if not replay():\n",
    "        print ('      ')\n",
    "        print('Thanks for playing, Bye')\n",
    "        break"
   ]
  },
  {
   "cell_type": "code",
   "execution_count": null,
   "metadata": {},
   "outputs": [],
   "source": []
  }
 ],
 "metadata": {
  "kernelspec": {
   "display_name": "Python 3",
   "language": "python",
   "name": "python3"
  },
  "language_info": {
   "codemirror_mode": {
    "name": "ipython",
    "version": 3
   },
   "file_extension": ".py",
   "mimetype": "text/x-python",
   "name": "python",
   "nbconvert_exporter": "python",
   "pygments_lexer": "ipython3",
   "version": "3.7.0"
  }
 },
 "nbformat": 4,
 "nbformat_minor": 2
}
