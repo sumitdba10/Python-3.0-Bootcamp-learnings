{
 "cells": [
  {
   "cell_type": "markdown",
   "metadata": {},
   "source": [
    "# Milestone Project 1: Walkthrough Steps Workbook\n",
    "\n",
    "Below is a set of steps for you to follow to try to create the Tic Tac Toe Milestone Project game!"
   ]
  },
  {
   "cell_type": "markdown",
   "metadata": {},
   "source": [
    "#### Some suggested tools before you get started:\n",
    "To take input from a user:\n",
    "\n",
    "    player1 = input(\"Please pick a marker 'X' or 'O'\")\n",
    "    \n",
    "Note that input() takes in a string. If you need an integer value, use\n",
    "\n",
    "    position = int(input('Please enter a number'))\n",
    "    \n",
    "<br>To clear the screen between moves:\n",
    "\n",
    "    from IPython.display import clear_output\n",
    "    clear_output()\n",
    "    \n",
    "Note that clear_output() will only work in jupyter. To clear the screen in other IDEs, consider:\n",
    "\n",
    "    print('\\n'*100)\n",
    "    \n",
    "This scrolls the previous board up out of view. Now on to the program!"
   ]
  },
  {
   "cell_type": "markdown",
   "metadata": {},
   "source": [
    "**Step 1: Write a function that can print out a board. Set up your board as a list, where each index 1-9 corresponds with a number on a number pad, so you get a 3 by 3 board representation.**"
   ]
  },
  {
   "cell_type": "code",
   "execution_count": null,
   "metadata": {},
   "outputs": [],
   "source": [
    "from IPython.display import clear_output\n",
    "\n",
    "\n",
    "#board = input('#','X','O','X','O','X','O','X','O','X')\n",
    "#board = ['#','X']\n",
    "board = [' ']*10\n",
    "\n",
    "def display_board(board):\n",
    "    clear_output()\n",
    "    print('  |   |')\n",
    "    print(''+ board[9]+ ' | ' + board[8] + ' | '+ board[7])\n",
    "    print('  |   |')\n",
    "    print('----------')\n",
    "    print('  |   |')\n",
    "    print(''+ board[6]+ ' | ' + board[5] + ' | '+ board[4])\n",
    "    print('  |   |')\n",
    "    print('-----------')\n",
    "    print('  |   |')\n",
    "    print(''+ board[1]+ ' | ' + board[2] + ' | '+ board[3])\n",
    "    print('  |   |')\n",
    "\n",
    "    \n",
    "\n",
    "#display_board(board)\n"
   ]
  },
  {
   "cell_type": "markdown",
   "metadata": {},
   "source": [
    "**TEST Step 1:** run your function on a test version of the board list, and make adjustments as necessary"
   ]
  },
  {
   "cell_type": "code",
   "execution_count": 58,
   "metadata": {},
   "outputs": [
    {
     "name": "stdout",
     "output_type": "stream",
     "text": [
      "  |   |\n",
      "X | O | X\n",
      "  |   |\n",
      "----------\n",
      "  |   |\n",
      "O | X | O\n",
      "  |   |\n",
      "-----------\n",
      "  |   |\n",
      "X | O | X\n",
      "  |   |\n"
     ]
    }
   ],
   "source": [
    "test_board = ['#','X','O','X','O','X','O','X','O','X']\n",
    "display_board(test_board)"
   ]
  },
  {
   "cell_type": "markdown",
   "metadata": {},
   "source": [
    "**Step 2: Write a function that can take in a player input and assign their marker as 'X' or 'O'. Think about using *while* loops to continually ask until you get a correct answer.**"
   ]
  },
  {
   "cell_type": "code",
   "execution_count": 105,
   "metadata": {},
   "outputs": [],
   "source": [
    "def player_input():\n",
    "    \n",
    "    marker = ''\n",
    "    while marker != 'X' and marker != 'O':\n",
    "        marker = input('welcome Player 1, Please pick a marker X or O: ')\n",
    "        \n",
    "        \n",
    "        if marker == 'X':\n",
    "            return('X','O')\n",
    "        else:\n",
    "            return('O','X')\n"
   ]
  },
  {
   "cell_type": "code",
   "execution_count": 79,
   "metadata": {},
   "outputs": [
    {
     "name": "stdout",
     "output_type": "stream",
     "text": [
      "welcome Player, Please pick a marker X or O: X\n"
     ]
    },
    {
     "data": {
      "text/plain": [
       "('X', 'O')"
      ]
     },
     "execution_count": 79,
     "metadata": {},
     "output_type": "execute_result"
    }
   ],
   "source": [
    "player_input()"
   ]
  },
  {
   "cell_type": "markdown",
   "metadata": {},
   "source": [
    "**TEST Step 2:** run the function to make sure it returns the desired output"
   ]
  },
  {
   "cell_type": "code",
   "execution_count": 80,
   "metadata": {},
   "outputs": [
    {
     "name": "stdout",
     "output_type": "stream",
     "text": [
      "welcome Player, Please pick a marker X or O: X\n"
     ]
    }
   ],
   "source": [
    "player1_marker,player2_marker = player_input()"
   ]
  },
  {
   "cell_type": "code",
   "execution_count": 81,
   "metadata": {},
   "outputs": [
    {
     "data": {
      "text/plain": [
       "'X'"
      ]
     },
     "execution_count": 81,
     "metadata": {},
     "output_type": "execute_result"
    }
   ],
   "source": [
    "player1_marker"
   ]
  },
  {
   "cell_type": "code",
   "execution_count": 82,
   "metadata": {},
   "outputs": [
    {
     "data": {
      "text/plain": [
       "'O'"
      ]
     },
     "execution_count": 82,
     "metadata": {},
     "output_type": "execute_result"
    }
   ],
   "source": [
    "player2_marker"
   ]
  },
  {
   "cell_type": "markdown",
   "metadata": {},
   "source": [
    "**Step 3: Write a function that takes in the board list object, a marker ('X' or 'O'), and a desired position (number 1-9) and assigns it to the board.**"
   ]
  },
  {
   "cell_type": "code",
   "execution_count": 83,
   "metadata": {},
   "outputs": [],
   "source": [
    "def place_marker(board, marker, position):\n",
    "    board[position] = marker\n",
    "    \n",
    "#place_marker(board,'X',1)\n",
    "#display_board(board)"
   ]
  },
  {
   "cell_type": "markdown",
   "metadata": {},
   "source": [
    "**TEST Step 3:** run the place marker function using test parameters and display the modified board"
   ]
  },
  {
   "cell_type": "code",
   "execution_count": 65,
   "metadata": {},
   "outputs": [
    {
     "name": "stdout",
     "output_type": "stream",
     "text": [
      "  |   |\n",
      "  |   |  \n",
      "  |   |\n",
      "----------\n",
      "  |   |\n",
      "  |   | O\n",
      "  |   |\n",
      "-----------\n",
      "  |   |\n",
      "X |   |  \n",
      "  |   |\n"
     ]
    }
   ],
   "source": [
    "\n",
    "#place_marker(board,'O',4)\n",
    "#display_board(board)"
   ]
  },
  {
   "cell_type": "markdown",
   "metadata": {},
   "source": [
    "**Step 4: Write a function that takes in a board and a mark (X or O) and then checks to see if that mark has won. **"
   ]
  },
  {
   "cell_type": "code",
   "execution_count": 84,
   "metadata": {},
   "outputs": [],
   "source": [
    "def win_check(board, mark):\n",
    "    \n",
    "      #WIN check for TIC TAC TOE\n",
    "    \n",
    "    # Check all rows if they have same marker\n",
    "    # check all columns if anyone of it has same marker\n",
    "    # check all diagonal if anyone of it has same marker\n",
    "    \n",
    "    return((board[1] == board[2] == board[3] == mark) or\n",
    "    (board[4] == board[5] == board[6] == mark) or\n",
    "    (board[7] == board[8] == board[9] == mark) or\n",
    "    (board[1] == board[6] == board[9] == mark) or\n",
    "    (board[2] == board[5] == board[8] == mark) or\n",
    "    (board[3] == board[4] == board[7] == mark) or\n",
    "    (board[1] == board[5] == board[7] == mark) or\n",
    "    (board[3] == board[5] == board[9] == mark))"
   ]
  },
  {
   "cell_type": "markdown",
   "metadata": {},
   "source": [
    "**TEST Step 4:** run the win_check function against our test_board - it should return True"
   ]
  },
  {
   "cell_type": "code",
   "execution_count": 85,
   "metadata": {},
   "outputs": [
    {
     "data": {
      "text/plain": [
       "False"
      ]
     },
     "execution_count": 85,
     "metadata": {},
     "output_type": "execute_result"
    }
   ],
   "source": [
    "win_check(board,'O')"
   ]
  },
  {
   "cell_type": "markdown",
   "metadata": {},
   "source": [
    "**Step 5: Write a function that uses the random module to randomly decide which player goes first. You may want to lookup random.randint() Return a string of which player went first.**"
   ]
  },
  {
   "cell_type": "code",
   "execution_count": 86,
   "metadata": {},
   "outputs": [
    {
     "name": "stdout",
     "output_type": "stream",
     "text": [
      "Sam\n",
      "Tom\n"
     ]
    },
    {
     "data": {
      "text/plain": [
       "'Tom'"
      ]
     },
     "execution_count": 86,
     "metadata": {},
     "output_type": "execute_result"
    }
   ],
   "source": [
    "import random\n",
    "\n",
    "player1 = input()\n",
    "player2 = input()\n",
    "def choose_first():\n",
    "    toss = random.randint(1,2)\n",
    "    \n",
    "    if toss == 1:\n",
    "        return player1\n",
    "    else:\n",
    "        return player2\n",
    "\n",
    "\n",
    "choose_first()"
   ]
  },
  {
   "cell_type": "markdown",
   "metadata": {},
   "source": [
    "**Step 6: Write a function that returns a boolean indicating whether a space on the board is freely available.**"
   ]
  },
  {
   "cell_type": "code",
   "execution_count": 87,
   "metadata": {},
   "outputs": [],
   "source": [
    "#board = ['#','X','O','X','','X','O','X','O','X']\n",
    "\n",
    "def space_check(board, position):\n",
    "    \n",
    "    return board[position] == ' '\n",
    "       \n",
    "\n",
    "#space_check(board,7)"
   ]
  },
  {
   "cell_type": "markdown",
   "metadata": {},
   "source": [
    "**Step 7: Write a function that checks if the board is full and returns a boolean value. True if full, False otherwise.**"
   ]
  },
  {
   "cell_type": "code",
   "execution_count": 88,
   "metadata": {},
   "outputs": [],
   "source": [
    "#def full_board_check(board):\n",
    "    \n",
    "    #for i in board:\n",
    "        #return i != ''\n",
    "        \n",
    "def full_board_check(board):\n",
    "    for i in range(1,10):\n",
    "        if space_check(board,i):\n",
    "            return False\n",
    "        \n",
    "    return True\n",
    "\n"
   ]
  },
  {
   "cell_type": "code",
   "execution_count": 89,
   "metadata": {},
   "outputs": [
    {
     "data": {
      "text/plain": [
       "False"
      ]
     },
     "execution_count": 89,
     "metadata": {},
     "output_type": "execute_result"
    }
   ],
   "source": [
    "full_board_check(board)"
   ]
  },
  {
   "cell_type": "markdown",
   "metadata": {},
   "source": [
    "**Step 8: Write a function that asks for a player's next position (as a number 1-9) and then uses the function from step 6 to check if it's a free position. If it is, then return the position for later use.**"
   ]
  },
  {
   "cell_type": "code",
   "execution_count": 90,
   "metadata": {},
   "outputs": [
    {
     "name": "stdout",
     "output_type": "stream",
     "text": [
      "Choose a position: (1-9)1\n"
     ]
    },
    {
     "data": {
      "text/plain": [
       "1"
      ]
     },
     "execution_count": 90,
     "metadata": {},
     "output_type": "execute_result"
    }
   ],
   "source": [
    "def player_choice(board):\n",
    "    \n",
    "    position = 0\n",
    "    while position not in range(1,10) or not space_check(board, position):\n",
    "        position = int(input('Choose a position: (1-9)'))\n",
    "    return position\n",
    "\n",
    "player_choice(board)\n",
    "#place_marker(board,'O',position)\n",
    "#display_board(board)\n"
   ]
  },
  {
   "cell_type": "markdown",
   "metadata": {},
   "source": [
    "**Step 9: Write a function that asks the player if they want to play again and returns a boolean True if they do want to play again.**"
   ]
  },
  {
   "cell_type": "code",
   "execution_count": 53,
   "metadata": {},
   "outputs": [],
   "source": [
    "def replay():\n",
    "    return input('Do you want to play again? Enter Yes or No: ').lower().startswith('y')"
   ]
  },
  {
   "cell_type": "markdown",
   "metadata": {
    "collapsed": true
   },
   "source": [
    "**Step 10: Here comes the hard part! Use while loops and the functions you've made to run the game!**"
   ]
  },
  {
   "cell_type": "code",
   "execution_count": 106,
   "metadata": {},
   "outputs": [
    {
     "name": "stdout",
     "output_type": "stream",
     "text": [
      "Welcome to Tic Tac Toe!\n",
      "Choose Name for Player 1: Kannu\n",
      "Choose Name for Player 2: Sumit\n",
      "welcome Player 1, Please pick a marker X or O: X\n",
      "KANNU, Your marker is X\n",
      "SUMIT, your marker is O\n",
      "KANNU WILL GO FIRST!\n",
      "Wanna play game? yes or no?n\n",
      "Do you want to play again? Enter Yes or No: n\n",
      "          \n",
      "Thanks for playing, Bye\n"
     ]
    }
   ],
   "source": [
    "print('Welcome to Tic Tac Toe!')\n",
    "\n",
    "player1 = input('Choose Name for Player 1: ').upper()\n",
    "player2 = input('Choose Name for Player 2: ').upper()\n",
    "\n",
    "while True:\n",
    "    # Set the game up here\n",
    "    #pass\n",
    "    ##setup everything (Board,who's first, choose marker X or O)\n",
    "    board = [' ']*10\n",
    "    player1_marker,player2_marker = player_input()\n",
    "    print(player1+ ', Your marker is '+player1_marker)\n",
    "    print(player2+ ', your marker is '+player2_marker)\n",
    "    \n",
    "    \n",
    "    turn = choose_first()\n",
    "    print(turn + ' WILL GO FIRST!')\n",
    "    \n",
    "    play_game = input('Wanna play game? yes or no?')\n",
    "    \n",
    "    if play_game.lower()[0] == 'y':\n",
    "        game_on = True\n",
    "    else:\n",
    "        game_on = False\n",
    "\n",
    "    while game_on:\n",
    "        ### Player 1 Turn\n",
    "        if turn == player1:\n",
    "            \n",
    "            #show the board\n",
    "            display_board(board)\n",
    "            \n",
    "            #choose a position\n",
    "            position = player_choice(board)\n",
    "            place_marker(board,player1_marker, position)\n",
    "            \n",
    "            #check if won\n",
    "            if win_check(board,player1_marker):\n",
    "                display_board(board)\n",
    "                print('          ')\n",
    "                print (player1 +' HAS WON!')\n",
    "                game_on = False\n",
    "            \n",
    "            #check if tie\n",
    "            if full_board_check(board):\n",
    "                display_board(board)\n",
    "                print('          ')\n",
    "                print('THE GAME IS TIE!')\n",
    "                game_on = False\n",
    "            else:\n",
    "                turn = player2\n",
    "        \n",
    "        else:\n",
    "            \n",
    "            ### Player2's turn.\n",
    "            #show the board\n",
    "            display_board(board)\n",
    "            \n",
    "            #choose a position\n",
    "            position = player_choice(board)\n",
    "            place_marker(board,player2_marker, position)\n",
    "            \n",
    "            #check if won\n",
    "            if win_check(board,player2_marker):\n",
    "                display_board(board)\n",
    "                print('          ')\n",
    "                print (player2 +' HAS WON!')\n",
    "                print('          ')\n",
    "                game_on = False\n",
    "            \n",
    "            #check if tie\n",
    "            if full_board_check(board):\n",
    "                display_board(board)\n",
    "                print('          ')\n",
    "                print('THE GAME IS TIE!')\n",
    "                print('          ')\n",
    "                game_on = False\n",
    "            else:\n",
    "                turn = player1\n",
    "            \n",
    "       \n",
    "            \n",
    "            #pass\n",
    "\n",
    "    if not replay():\n",
    "        print('          ')\n",
    "        print(\"Thanks for playing, Bye\")\n",
    "        break"
   ]
  },
  {
   "cell_type": "markdown",
   "metadata": {
    "collapsed": true
   },
   "source": [
    "## Good Job!"
   ]
  }
 ],
 "metadata": {
  "kernelspec": {
   "display_name": "Python 3",
   "language": "python",
   "name": "python3"
  },
  "language_info": {
   "codemirror_mode": {
    "name": "ipython",
    "version": 3
   },
   "file_extension": ".py",
   "mimetype": "text/x-python",
   "name": "python",
   "nbconvert_exporter": "python",
   "pygments_lexer": "ipython3",
   "version": "3.7.0"
  }
 },
 "nbformat": 4,
 "nbformat_minor": 1
}
