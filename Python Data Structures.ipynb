{
 "cells": [
  {
   "cell_type": "markdown",
   "metadata": {},
   "source": [
    "# Python Objects and Data Structure"
   ]
  },
  {
   "cell_type": "raw",
   "metadata": {},
   "source": [
    "Python is an Object oriented programming language.\n",
    "\n",
    "Object:\n",
    "-------\n",
    "\n",
    "Object is an instance or clone of a Class which has some attributes and function associated with it.\n",
    "\n",
    "         e.g. A Car is a class which has various attributes such as tyres, hood, top, steering, color, name etc. and various functionalties such as convertible, fastest, drive, stop etc.\n",
    "         \n",
    "         Now assume, from a Car class, we have to create different types of cars such as sedan, convertible, suv, luxury, sports etc. All these variations are just Object of main Car class.\n",
    "         \n",
    "         First, thought would come to your mind, If we talk about car, engine, steering, tyres, headlight, hood etc. So, all of Objects such as Honda Civic, Ford Mustang, Merc GLA, Tesla 3 inherit such properties or attributes.\n",
    "         \n",
    "         \n",
    "General Data Structure:\n",
    "-----------------------\n",
    "\n",
    "In my opinion, Data structure is a way to organize your data in a best way or store in system. e.g. if you have some numbers, you may store these numbers in different types of data structure such list, map, graph etc.\n",
    "\n",
    "Example: Array:- Linear Data Structure, collection of elements usually of same type such as number, or string. each elements is stored on a position which has an assigned index position known as numeric index. Indexing starts from 0 to n. \n",
    "\n",
    "e.g. 1,2,3,4,5,6,7,8\n",
    "\n",
    "At index position 0 value is 1\n",
    "At index position 1 value is 2\n",
    "At index position 2 value is 3\n",
    "At index position -1 value is 8\n",
    "\n",
    "-1 indicate reverese order to read element or the last element.\n",
    "\n",
    "\n",
    "https://medium.com/karuna-sehgal/a-simplifed-expanation-about-data-structures-ddaddd209737\n",
    "\n",
    "\n",
    "-----------------------------------------------------------------------------------------------------------------\n",
    "\n",
    "Python Data Types: \n",
    "\n",
    "1) Integers, int, \n",
    "\n",
    "\n",
    "\n",
    "\n",
    "\n",
    "\n",
    "\n",
    "         \n",
    "         \n",
    " "
   ]
  }
 ],
 "metadata": {
  "kernelspec": {
   "display_name": "Python 3",
   "language": "python",
   "name": "python3"
  },
  "language_info": {
   "codemirror_mode": {
    "name": "ipython",
    "version": 3
   },
   "file_extension": ".py",
   "mimetype": "text/x-python",
   "name": "python",
   "nbconvert_exporter": "python",
   "pygments_lexer": "ipython3",
   "version": "3.7.0"
  }
 },
 "nbformat": 4,
 "nbformat_minor": 2
}
