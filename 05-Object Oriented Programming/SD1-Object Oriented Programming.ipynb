{
 "cells": [
  {
   "cell_type": "markdown",
   "metadata": {},
   "source": [
    "# OBJECT ORIENTED PROGRAMMING"
   ]
  },
  {
   "cell_type": "code",
   "execution_count": 1,
   "metadata": {},
   "outputs": [],
   "source": [
    "testset = set()"
   ]
  },
  {
   "cell_type": "code",
   "execution_count": 2,
   "metadata": {},
   "outputs": [
    {
     "data": {
      "text/plain": [
       "set"
      ]
     },
     "execution_count": 2,
     "metadata": {},
     "output_type": "execute_result"
    }
   ],
   "source": [
    "type(testset)"
   ]
  },
  {
   "cell_type": "code",
   "execution_count": 3,
   "metadata": {},
   "outputs": [],
   "source": [
    "class FirstClass():\n",
    "    \n",
    "    pass"
   ]
  },
  {
   "cell_type": "code",
   "execution_count": 4,
   "metadata": {},
   "outputs": [],
   "source": [
    "my_firstclassinstance = FirstClass()"
   ]
  },
  {
   "cell_type": "code",
   "execution_count": 5,
   "metadata": {},
   "outputs": [
    {
     "data": {
      "text/plain": [
       "__main__.FirstClass"
      ]
     },
     "execution_count": 5,
     "metadata": {},
     "output_type": "execute_result"
    }
   ],
   "source": [
    "type(my_firstclassinstance)"
   ]
  },
  {
   "cell_type": "code",
   "execution_count": 6,
   "metadata": {},
   "outputs": [],
   "source": [
    "#\"class\" is the keyword to define class, and it store objects\n",
    "# class name is variable that should be Camel case with ():, choose any name \n",
    "class Car():\n",
    "    \n",
    "    \"\"\"#class = keyword\n",
    "        #Car() = classname\n",
    "    if you will call an instance of class Car, Python will call __init__ method\n",
    "    *__init__ is the method, init method will act as constructor whenever we create any \n",
    "    instance of the class e.g. mycar, mymodel.\n",
    "    *self = instance of the object itself\n",
    "    *self = keyword, to repersent the object of a class itself\n",
    "    *self keyword is to integrate or connect instance of class to the __init__ method\n",
    "    *model,year,color, & new are arguments/Parameters\n",
    "    \"\"\"\n",
    "    \n",
    "    #CLASS OBJECT ATTRIBUTES\n",
    "    #SAME FOR ANY INSTANCE OF A CLASS\n",
    "    category = 'vehicle'\n",
    "    \n",
    "    \n",
    "    def __init__(self,model,year,color,new):\n",
    "        \n",
    "        #Attributes\n",
    "        #We choose an argument\n",
    "        #Assign it using self.attribute_name to an attribute\n",
    "        #Attribute value will be shown when you will call the method\n",
    "        #In our case, attribute is mymodel, and value will be passed later\n",
    "        #self.my_first_attribute = mymodel\n",
    "        \n",
    "        #However, conventional way to use same name for Arguments, and self.Attribute\n",
    "        self.model = model\n",
    "        self.year = year\n",
    "        self.color = color\n",
    "        \n",
    "        #expect a boolean True/False\n",
    "        self.new = new\n",
    "        \n",
    "        \n",
    "       \n",
    "        #mycar = instance of class"
   ]
  },
  {
   "cell_type": "code",
   "execution_count": 7,
   "metadata": {},
   "outputs": [],
   "source": [
    "#my_car = Car()\n",
    "#my_car = Car(mymodel='Mustang')\n",
    "mycar = Car(model='Mustang',year=2019,color='Metallic Grey',new=False)\n"
   ]
  },
  {
   "cell_type": "code",
   "execution_count": 8,
   "metadata": {},
   "outputs": [
    {
     "data": {
      "text/plain": [
       "__main__.Car"
      ]
     },
     "execution_count": 8,
     "metadata": {},
     "output_type": "execute_result"
    }
   ],
   "source": [
    "type(mycar)"
   ]
  },
  {
   "cell_type": "code",
   "execution_count": 9,
   "metadata": {},
   "outputs": [
    {
     "data": {
      "text/plain": [
       "False"
      ]
     },
     "execution_count": 9,
     "metadata": {},
     "output_type": "execute_result"
    }
   ],
   "source": [
    "mycar.new\n",
    "#mycar = instance of class Car\n",
    "#model is attributes of method of class"
   ]
  },
  {
   "cell_type": "raw",
   "metadata": {},
   "source": [
    "#CLASS OBJECT ATTRIBUTES\n",
    "\n",
    "Class Object Attributes are same for any instance. We can assume super attribute our class. e.g. water, milk, soda, petrol are of same class or state i.e. 'liquid'\n"
   ]
  },
  {
   "cell_type": "code",
   "execution_count": 10,
   "metadata": {},
   "outputs": [
    {
     "data": {
      "text/plain": [
       "'Methods are defined in object of a class'"
      ]
     },
     "execution_count": 10,
     "metadata": {},
     "output_type": "execute_result"
    }
   ],
   "source": [
    "#Methods\n",
    "\"\"\"Methods are defined in object of a class\"\"\""
   ]
  },
  {
   "cell_type": "code",
   "execution_count": 24,
   "metadata": {},
   "outputs": [],
   "source": [
    "class Robot():\n",
    "    \n",
    "    def __init__(self,name, height, gender):\n",
    "        \n",
    "        self.name = name\n",
    "        self.height = height\n",
    "        self.gender = gender\n",
    "        \n",
    "        \n",
    "    def response(self):\n",
    "        print(\"My name is \"+self.name+\" ,height is \".format(self.height)+\" ,and gender \"+self.gender)"
   ]
  },
  {
   "cell_type": "code",
   "execution_count": 27,
   "metadata": {},
   "outputs": [],
   "source": [
    "# robot1 = Robot()\n",
    "# robot1.name = 'Sumit'\n",
    "# robot1.height = '5.10\"'\n",
    "# robot1.gender = 'Male'\n",
    "\n",
    "\n",
    "# robot2 = Robot()\n",
    "# robot2.name = 'Kannu'\n",
    "# robot2.height = '5.3\"'\n",
    "# robot1.gender = 'Female'\n",
    "\n",
    "robot1 = Robot(\"Sumit\",5.10,\"male\")"
   ]
  },
  {
   "cell_type": "code",
   "execution_count": 28,
   "metadata": {},
   "outputs": [
    {
     "name": "stdout",
     "output_type": "stream",
     "text": [
      "My name is Sumit ,height is  ,and gender male\n",
      "My name is Kannu\n"
     ]
    }
   ],
   "source": [
    "robot1.response()\n",
    "robot2.response()"
   ]
  },
  {
   "cell_type": "code",
   "execution_count": null,
   "metadata": {},
   "outputs": [],
   "source": []
  },
  {
   "cell_type": "code",
   "execution_count": null,
   "metadata": {},
   "outputs": [],
   "source": []
  }
 ],
 "metadata": {
  "kernelspec": {
   "display_name": "Python 3",
   "language": "python",
   "name": "python3"
  },
  "language_info": {
   "codemirror_mode": {
    "name": "ipython",
    "version": 3
   },
   "file_extension": ".py",
   "mimetype": "text/x-python",
   "name": "python",
   "nbconvert_exporter": "python",
   "pygments_lexer": "ipython3",
   "version": "3.7.0"
  }
 },
 "nbformat": 4,
 "nbformat_minor": 2
}
